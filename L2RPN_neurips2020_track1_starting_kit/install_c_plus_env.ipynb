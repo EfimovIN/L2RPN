{
 "cells": [
  {
   "cell_type": "code",
   "execution_count": 12,
   "metadata": {},
   "outputs": [
    {
     "name": "stderr",
     "output_type": "stream",
     "text": [
      "/home/efimovin/anaconda3/lib/python3.6/site-packages/grid2op/MakeEnv/Make.py:282: UserWarning: It is the first time you use the environment \"l2rpn_wcci_2020\".\n",
      "We will attempt to download this environment from remote\n",
      "  warnings.warn(_MAKE_FIRST_TIME_WARN.format(dataset_name))\n",
      "l2rpn_wcci_2020.tar.bz2: 0.00B [00:00, ?B/s]"
     ]
    },
    {
     "name": "stdout",
     "output_type": "stream",
     "text": [
      "downloading the training data, this may take a while.\n"
     ]
    },
    {
     "name": "stderr",
     "output_type": "stream",
     "text": [
      "l2rpn_wcci_2020.tar.bz2: 4.55GB [01:47, 42.1MB/s]                            \n"
     ]
    },
    {
     "name": "stdout",
     "output_type": "stream",
     "text": [
      "Extract the tar archive in \"/home/efimovin/data_grid2op\"\n",
      "You may now use the environment \"l2rpn_wcci_2020\" with the available data by invoking:\n",
      "\tenv = grid2op.make(\"l2rpn_wcci_2020\")\n"
     ]
    }
   ],
   "source": [
    "import grid2op\n",
    "from lightsim2grid.LightSimBackend import LightSimBackend\n",
    "backend = LightSimBackend()\n",
    "env = grid2op.make(\"l2rpn_wcci_2020\", backend=backend)\n",
    "# and now you can do the code you want to do"
   ]
  },
  {
   "cell_type": "code",
   "execution_count": 13,
   "metadata": {},
   "outputs": [],
   "source": [
    "any_action = env.action_space()  # or any other action\n",
    "obs = env.reset()\n",
    "state_after_simulate, simulated_reward, simulated_done, simulated_info = obs.simulate(any_action,time_step=1)"
   ]
  },
  {
   "cell_type": "code",
   "execution_count": 14,
   "metadata": {},
   "outputs": [
    {
     "data": {
      "text/plain": [
       "(<grid2op.Space.GridObjects.CompleteObservation_l2rpn_wcci_2020 at 0x7f4f548f2198>,\n",
       " 1085.7089,\n",
       " False,\n",
       " {'disc_lines': array([False, False, False, False, False, False, False, False, False,\n",
       "         False, False, False, False, False, False, False, False, False,\n",
       "         False, False, False, False, False, False, False, False, False,\n",
       "         False, False, False, False, False, False, False, False, False,\n",
       "         False, False, False, False, False, False, False, False, False,\n",
       "         False, False, False, False, False, False, False, False, False,\n",
       "         False, False, False, False, False]),\n",
       "  'exception': [],\n",
       "  'is_ambiguous': False,\n",
       "  'is_dispatching_illegal': False,\n",
       "  'is_illegal': False,\n",
       "  'is_illegal_reco': False,\n",
       "  'opponent_attack_duration': 0,\n",
       "  'opponent_attack_line': None,\n",
       "  'opponent_attack_sub': None,\n",
       "  'rewards': {}})"
      ]
     },
     "execution_count": 14,
     "metadata": {},
     "output_type": "execute_result"
    }
   ],
   "source": [
    "state_after_simulate, simulated_reward, simulated_done, simulated_info"
   ]
  },
  {
   "cell_type": "code",
   "execution_count": null,
   "metadata": {},
   "outputs": [],
   "source": []
  },
  {
   "cell_type": "code",
   "execution_count": null,
   "metadata": {},
   "outputs": [],
   "source": []
  },
  {
   "cell_type": "code",
   "execution_count": 1,
   "metadata": {},
   "outputs": [
    {
     "name": "stdout",
     "output_type": "stream",
     "text": [
      "Cloning into 'lightsim2grid'...\n",
      "remote: Enumerating objects: 405, done.\u001b[K\n",
      "remote: Counting objects: 100% (405/405), done.\u001b[K\n",
      "remote: Compressing objects: 100% (285/285), done.\u001b[K\n",
      "remote: Total 1058 (delta 270), reused 238 (delta 119), pack-reused 653\u001b[K\n",
      "Receiving objects: 100% (1058/1058), 1.05 MiB | 1.38 MiB/s, done.\n",
      "Resolving deltas: 100% (745/745), done.\n"
     ]
    }
   ],
   "source": [
    "!git clone https://github.com/BDonnot/lightsim2grid.git"
   ]
  },
  {
   "cell_type": "markdown",
   "metadata": {},
   "source": [
    "### Установка"
   ]
  },
  {
   "cell_type": "code",
   "execution_count": 2,
   "metadata": {},
   "outputs": [],
   "source": [
    "!cd lightsim2grid"
   ]
  },
  {
   "cell_type": "code",
   "execution_count": 3,
   "metadata": {},
   "outputs": [],
   "source": [
    "!git submodule init"
   ]
  },
  {
   "cell_type": "code",
   "execution_count": 4,
   "metadata": {},
   "outputs": [],
   "source": [
    "!git submodule update"
   ]
  },
  {
   "cell_type": "code",
   "execution_count": 5,
   "metadata": {},
   "outputs": [
    {
     "name": "stdout",
     "output_type": "stream",
     "text": [
      "make: *** No targets specified and no makefile found.  Stop.\n"
     ]
    }
   ],
   "source": [
    "!make"
   ]
  },
  {
   "cell_type": "code",
   "execution_count": 6,
   "metadata": {},
   "outputs": [
    {
     "name": "stdout",
     "output_type": "stream",
     "text": [
      "Collecting pybind11\n",
      "  Using cached pybind11-2.5.0-py2.py3-none-any.whl (296 kB)\n",
      "Installing collected packages: pybind11\n",
      "Successfully installed pybind11-2.5.0\n"
     ]
    }
   ],
   "source": [
    "!pip install -U pybind11"
   ]
  },
  {
   "cell_type": "code",
   "execution_count": 7,
   "metadata": {},
   "outputs": [
    {
     "name": "stdout",
     "output_type": "stream",
     "text": [
      "Processing /home/efimovin/L2RPN/lightsim2grid\n",
      "Requirement already satisfied, skipping upgrade: pybind11>=2.4 in /home/efimovin/anaconda3/lib/python3.6/site-packages (from LightSim2Grid==0.2.4) (2.5.0)\n",
      "Requirement already satisfied, skipping upgrade: pandapower in /home/efimovin/anaconda3/lib/python3.6/site-packages (from LightSim2Grid==0.2.4) (2.3.1)\n",
      "Requirement already satisfied, skipping upgrade: numpy in /home/efimovin/anaconda3/lib/python3.6/site-packages (from LightSim2Grid==0.2.4) (1.19.1)\n",
      "Requirement already satisfied, skipping upgrade: scipy in /home/efimovin/anaconda3/lib/python3.6/site-packages (from LightSim2Grid==0.2.4) (1.5.2)\n",
      "Requirement already satisfied, skipping upgrade: grid2op in /home/efimovin/anaconda3/lib/python3.6/site-packages (from LightSim2Grid==0.2.4) (1.2.2)\n",
      "Requirement already satisfied, skipping upgrade: pandas>=0.17 in /home/efimovin/anaconda3/lib/python3.6/site-packages (from pandapower->LightSim2Grid==0.2.4) (1.1.1)\n",
      "Requirement already satisfied, skipping upgrade: xlrd in /home/efimovin/anaconda3/lib/python3.6/site-packages (from pandapower->LightSim2Grid==0.2.4) (1.1.0)\n",
      "Requirement already satisfied, skipping upgrade: xlsxwriter in /home/efimovin/anaconda3/lib/python3.6/site-packages (from pandapower->LightSim2Grid==0.2.4) (1.0.2)\n",
      "Requirement already satisfied, skipping upgrade: packaging in /home/efimovin/anaconda3/lib/python3.6/site-packages (from pandapower->LightSim2Grid==0.2.4) (16.8)\n",
      "Requirement already satisfied, skipping upgrade: cryptography in /home/efimovin/anaconda3/lib/python3.6/site-packages (from pandapower->LightSim2Grid==0.2.4) (2.0.3)\n",
      "Requirement already satisfied, skipping upgrade: networkx in /home/efimovin/anaconda3/lib/python3.6/site-packages (from pandapower->LightSim2Grid==0.2.4) (2.5)\n",
      "Requirement already satisfied, skipping upgrade: tqdm>=4.45.0 in /home/efimovin/anaconda3/lib/python3.6/site-packages (from grid2op->LightSim2Grid==0.2.4) (4.48.2)\n",
      "Requirement already satisfied, skipping upgrade: pathlib>=1.0.1 in /home/efimovin/anaconda3/lib/python3.6/site-packages (from grid2op->LightSim2Grid==0.2.4) (1.0.1)\n",
      "Requirement already satisfied, skipping upgrade: requests>=2.23.0 in /home/efimovin/anaconda3/lib/python3.6/site-packages (from grid2op->LightSim2Grid==0.2.4) (2.24.0)\n",
      "Requirement already satisfied, skipping upgrade: pytz>=2017.2 in /home/efimovin/anaconda3/lib/python3.6/site-packages (from pandas>=0.17->pandapower->LightSim2Grid==0.2.4) (2017.2)\n",
      "Requirement already satisfied, skipping upgrade: python-dateutil>=2.7.3 in /home/efimovin/anaconda3/lib/python3.6/site-packages (from pandas>=0.17->pandapower->LightSim2Grid==0.2.4) (2.8.1)\n",
      "Requirement already satisfied, skipping upgrade: pyparsing in /home/efimovin/anaconda3/lib/python3.6/site-packages (from packaging->pandapower->LightSim2Grid==0.2.4) (2.2.0)\n",
      "Requirement already satisfied, skipping upgrade: six in /home/efimovin/anaconda3/lib/python3.6/site-packages (from packaging->pandapower->LightSim2Grid==0.2.4) (1.11.0)\n",
      "Requirement already satisfied, skipping upgrade: idna>=2.1 in /home/efimovin/anaconda3/lib/python3.6/site-packages (from cryptography->pandapower->LightSim2Grid==0.2.4) (2.6)\n",
      "Requirement already satisfied, skipping upgrade: asn1crypto>=0.21.0 in /home/efimovin/anaconda3/lib/python3.6/site-packages (from cryptography->pandapower->LightSim2Grid==0.2.4) (0.22.0)\n",
      "Requirement already satisfied, skipping upgrade: cffi>=1.7 in /home/efimovin/anaconda3/lib/python3.6/site-packages (from cryptography->pandapower->LightSim2Grid==0.2.4) (1.10.0)\n",
      "Requirement already satisfied, skipping upgrade: decorator>=4.3.0 in /home/efimovin/anaconda3/lib/python3.6/site-packages (from networkx->pandapower->LightSim2Grid==0.2.4) (4.4.2)\n",
      "Requirement already satisfied, skipping upgrade: certifi>=2017.4.17 in /home/efimovin/anaconda3/lib/python3.6/site-packages (from requests>=2.23.0->grid2op->LightSim2Grid==0.2.4) (2017.7.27.1)\n",
      "Requirement already satisfied, skipping upgrade: chardet<4,>=3.0.2 in /home/efimovin/anaconda3/lib/python3.6/site-packages (from requests>=2.23.0->grid2op->LightSim2Grid==0.2.4) (3.0.4)\n",
      "Requirement already satisfied, skipping upgrade: urllib3!=1.25.0,!=1.25.1,<1.26,>=1.21.1 in /home/efimovin/anaconda3/lib/python3.6/site-packages (from requests>=2.23.0->grid2op->LightSim2Grid==0.2.4) (1.22)\n",
      "Requirement already satisfied, skipping upgrade: pycparser in /home/efimovin/anaconda3/lib/python3.6/site-packages (from cffi>=1.7->cryptography->pandapower->LightSim2Grid==0.2.4) (2.18)\n",
      "Building wheels for collected packages: LightSim2Grid\n",
      "  Building wheel for LightSim2Grid (setup.py) ... \u001b[?25ldone\n",
      "\u001b[?25h  Created wheel for LightSim2Grid: filename=LightSim2Grid-0.2.4-cp36-cp36m-linux_x86_64.whl size=7256196 sha256=ea1298b59721411a6339777467e7d3e0a8260012ba1213c6baf3766d14651b29\n",
      "  Stored in directory: /tmp/pip-ephem-wheel-cache-_0kl0le2/wheels/b1/fb/b2/ed233c5c53ede30545be717bb0da0fa37ebf02aa1676c16a70\n",
      "Successfully built LightSim2Grid\n",
      "Installing collected packages: LightSim2Grid\n",
      "Successfully installed LightSim2Grid-0.2.4\n"
     ]
    }
   ],
   "source": [
    "!pip install -U ."
   ]
  },
  {
   "cell_type": "code",
   "execution_count": 10,
   "metadata": {},
   "outputs": [
    {
     "name": "stdout",
     "output_type": "stream",
     "text": [
      "Requirement already satisfied: grid2op in /home/efimovin/anaconda3/lib/python3.6/site-packages (1.2.2)\n",
      "Requirement already satisfied: pandas>=1.0.3 in /home/efimovin/anaconda3/lib/python3.6/site-packages (from grid2op) (1.1.1)\n",
      "Requirement already satisfied: networkx>=2.4 in /home/efimovin/anaconda3/lib/python3.6/site-packages (from grid2op) (2.5)\n",
      "Requirement already satisfied: numpy>=1.18.3 in /home/efimovin/anaconda3/lib/python3.6/site-packages (from grid2op) (1.19.1)\n",
      "Requirement already satisfied: tqdm>=4.45.0 in /home/efimovin/anaconda3/lib/python3.6/site-packages (from grid2op) (4.48.2)\n",
      "Requirement already satisfied: pandapower>=2.2.2 in /home/efimovin/anaconda3/lib/python3.6/site-packages (from grid2op) (2.3.1)\n",
      "Requirement already satisfied: scipy>=1.4.1 in /home/efimovin/anaconda3/lib/python3.6/site-packages (from grid2op) (1.5.2)\n",
      "Requirement already satisfied: pathlib>=1.0.1 in /home/efimovin/anaconda3/lib/python3.6/site-packages (from grid2op) (1.0.1)\n",
      "Requirement already satisfied: requests>=2.23.0 in /home/efimovin/anaconda3/lib/python3.6/site-packages (from grid2op) (2.24.0)\n",
      "Requirement already satisfied: pytz>=2017.2 in /home/efimovin/anaconda3/lib/python3.6/site-packages (from pandas>=1.0.3->grid2op) (2017.2)\n",
      "Requirement already satisfied: python-dateutil>=2.7.3 in /home/efimovin/anaconda3/lib/python3.6/site-packages (from pandas>=1.0.3->grid2op) (2.8.1)\n",
      "Requirement already satisfied: decorator>=4.3.0 in /home/efimovin/anaconda3/lib/python3.6/site-packages (from networkx>=2.4->grid2op) (4.4.2)\n",
      "Requirement already satisfied: packaging in /home/efimovin/anaconda3/lib/python3.6/site-packages (from pandapower>=2.2.2->grid2op) (16.8)\n",
      "Requirement already satisfied: xlrd in /home/efimovin/anaconda3/lib/python3.6/site-packages (from pandapower>=2.2.2->grid2op) (1.1.0)\n",
      "Requirement already satisfied: cryptography in /home/efimovin/anaconda3/lib/python3.6/site-packages (from pandapower>=2.2.2->grid2op) (2.0.3)\n",
      "Requirement already satisfied: xlsxwriter in /home/efimovin/anaconda3/lib/python3.6/site-packages (from pandapower>=2.2.2->grid2op) (1.0.2)\n",
      "Requirement already satisfied: certifi>=2017.4.17 in /home/efimovin/anaconda3/lib/python3.6/site-packages (from requests>=2.23.0->grid2op) (2017.7.27.1)\n",
      "Requirement already satisfied: urllib3!=1.25.0,!=1.25.1,<1.26,>=1.21.1 in /home/efimovin/anaconda3/lib/python3.6/site-packages (from requests>=2.23.0->grid2op) (1.22)\n",
      "Requirement already satisfied: idna<3,>=2.5 in /home/efimovin/anaconda3/lib/python3.6/site-packages (from requests>=2.23.0->grid2op) (2.6)\n",
      "Requirement already satisfied: chardet<4,>=3.0.2 in /home/efimovin/anaconda3/lib/python3.6/site-packages (from requests>=2.23.0->grid2op) (3.0.4)\n",
      "Requirement already satisfied: six>=1.5 in /home/efimovin/anaconda3/lib/python3.6/site-packages (from python-dateutil>=2.7.3->pandas>=1.0.3->grid2op) (1.11.0)\n",
      "Requirement already satisfied: pyparsing in /home/efimovin/anaconda3/lib/python3.6/site-packages (from packaging->pandapower>=2.2.2->grid2op) (2.2.0)\n",
      "Requirement already satisfied: asn1crypto>=0.21.0 in /home/efimovin/anaconda3/lib/python3.6/site-packages (from cryptography->pandapower>=2.2.2->grid2op) (0.22.0)\n",
      "Requirement already satisfied: cffi>=1.7 in /home/efimovin/anaconda3/lib/python3.6/site-packages (from cryptography->pandapower>=2.2.2->grid2op) (1.10.0)\n",
      "Requirement already satisfied: pycparser in /home/efimovin/anaconda3/lib/python3.6/site-packages (from cffi>=1.7->cryptography->pandapower>=2.2.2->grid2op) (2.18)\n"
     ]
    }
   ],
   "source": [
    "!pip install grid2op"
   ]
  },
  {
   "cell_type": "code",
   "execution_count": null,
   "metadata": {},
   "outputs": [],
   "source": []
  }
 ],
 "metadata": {
  "kernelspec": {
   "display_name": "Python 3",
   "language": "python",
   "name": "python3"
  },
  "language_info": {
   "codemirror_mode": {
    "name": "ipython",
    "version": 3
   },
   "file_extension": ".py",
   "mimetype": "text/x-python",
   "name": "python",
   "nbconvert_exporter": "python",
   "pygments_lexer": "ipython3",
   "version": "3.6.10"
  }
 },
 "nbformat": 4,
 "nbformat_minor": 4
}
