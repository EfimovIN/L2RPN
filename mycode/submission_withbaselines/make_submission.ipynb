{
 "cells": [
  {
   "cell_type": "code",
   "execution_count": 4,
   "metadata": {},
   "outputs": [],
   "source": [
    "import pathlib\n",
    "pathic = pathlib.Path().absolute()"
   ]
  },
  {
   "cell_type": "code",
   "execution_count": 2,
   "metadata": {},
   "outputs": [],
   "source": [
    "# import grid2op\n",
    "# env = grid2op.make(\"l2rpn_neurips_2020_track1_small\")  #for Track 1 - Robustness\n",
    "from grid2op.Reward import L2RPNReward\n",
    "import grid2op\n",
    "from lightsim2grid.LightSimBackend import LightSimBackend\n",
    "backend = LightSimBackend()\n",
    "env = grid2op.make(\"l2rpn_neurips_2020_track1_large\", backend=backend,\n",
    "                   reward_class=L2RPNReward)"
   ]
  },
  {
   "cell_type": "code",
   "execution_count": 3,
   "metadata": {},
   "outputs": [
    {
     "name": "stdout",
     "output_type": "stream",
     "text": [
      "Overwriting my_baseline.py\n"
     ]
    }
   ],
   "source": [
    "%%writefile my_baseline.py\n",
    "# import os\n",
    "# from l2rpn_baselines.DuelQSimple import DuelQSimple, DuelQ_NNParam\n",
    "\n",
    "import grid2op\n",
    "from grid2op.Reward import L2RPNReward\n",
    "from l2rpn_baselines.utils import TrainingParam \n",
    "from l2rpn_baselines.DuelQLeapNet import train, DuelQLeapNet\n",
    "from l2rpn_baselines.DuelQLeapNet.LeapNet_NNParam import LeapNet_NNParam\n",
    "import tensorflow as tf\n",
    "from l2rpn_baselines.DuelQLeapNet.DuelQLeapNet_NN import DuelQLeapNet_NN\n",
    "import os\n",
    "\n",
    "name = \"FirstDQLN\"\n",
    "\n",
    "\n",
    "def make_agent(env, submission_dir):\n",
    "#     import pathlib\n",
    "#     pathic = pathlib.Path().absolute()\n",
    "#     submission_dir = f'{pathic}/submission/MODEL'\n",
    "    \n",
    "    load_path = submission_dir\n",
    "    \n",
    "    # Limit gpu usage\n",
    "    physical_devices = tf.config.list_physical_devices('GPU')\n",
    "    if len(physical_devices):\n",
    "        tf.config.experimental.set_memory_growth(physical_devices[0], True)\n",
    "\n",
    "    runner_params = env.get_params_for_runner()\n",
    "#     runner_params[\"verbose\"] = verbose\n",
    "\n",
    "    if load_path is None:\n",
    "        raise RuntimeError(\"Cannot evaluate a model if there is nothing to be loaded.\")\n",
    "    path_model, path_target_model = DuelQLeapNet_NN.get_path_model(load_path, name)\n",
    "    nn_archi = LeapNet_NNParam.from_json(os.path.join(path_model, \"nn_architecture.json\"))\n",
    "\n",
    "    # Run\n",
    "    # Create agent\n",
    "    agent = DuelQLeapNet(action_space=env.action_space,\n",
    "                         name=name,\n",
    "                         store_action=1,\n",
    "                         nn_archi=nn_archi,\n",
    "                         observation_space=env.observation_space)\n",
    "\n",
    "    # Load weights from file\n",
    "    agent.load(load_path)\n",
    "    return agent"
   ]
  },
  {
   "cell_type": "code",
   "execution_count": 4,
   "metadata": {},
   "outputs": [
    {
     "data": {
      "text/plain": [
       "4.5"
      ]
     },
     "execution_count": 4,
     "metadata": {},
     "output_type": "execute_result"
    }
   ],
   "source": [
    "import numpy as np\n",
    "x = [1,2,3,4,5]\n",
    "np.mean(x[-2:])"
   ]
  },
  {
   "cell_type": "code",
   "execution_count": 11,
   "metadata": {},
   "outputs": [
    {
     "data": {
      "text/plain": [
       "'10:22AM, 02 September'"
      ]
     },
     "execution_count": 11,
     "metadata": {},
     "output_type": "execute_result"
    }
   ],
   "source": [
    "from datetime import datetime\n",
    "datetime.now().strftime(\"%I:%M%p, %d %B\")"
   ]
  },
  {
   "cell_type": "code",
   "execution_count": null,
   "metadata": {},
   "outputs": [],
   "source": []
  },
  {
   "cell_type": "code",
   "execution_count": null,
   "metadata": {},
   "outputs": [],
   "source": []
  },
  {
   "cell_type": "code",
   "execution_count": 4,
   "metadata": {},
   "outputs": [],
   "source": [
    "%load_ext autoreload\n",
    "%autoreload 2\n",
    "import pathlib\n",
    "pathic = pathlib.Path().absolute()\n",
    "from my_baseline import make_agent"
   ]
  },
  {
   "cell_type": "code",
   "execution_count": 5,
   "metadata": {},
   "outputs": [
    {
     "name": "stdout",
     "output_type": "stream",
     "text": [
      "WARNING:tensorflow:AutoGraph could not transform <bound method LtauBis.call of <l2rpn_baselines.DuelQLeapNet.DuelQLeapNet_NN.LtauBis object at 0x7f3b8e585a58>> and will run it as-is.\n",
      "Please report this to the TensorFlow team. When filing the bug, set the verbosity to 10 (on Linux, `export AUTOGRAPH_VERBOSITY=10`) and attach the full output.\n",
      "Cause: 'arguments' object has no attribute 'posonlyargs'\n",
      "To silence this warning, decorate the function with @tf.autograph.experimental.do_not_convert\n",
      "WARNING: AutoGraph could not transform <bound method LtauBis.call of <l2rpn_baselines.DuelQLeapNet.DuelQLeapNet_NN.LtauBis object at 0x7f3b8e585a58>> and will run it as-is.\n",
      "Please report this to the TensorFlow team. When filing the bug, set the verbosity to 10 (on Linux, `export AUTOGRAPH_VERBOSITY=10`) and attach the full output.\n",
      "Cause: 'arguments' object has no attribute 'posonlyargs'\n",
      "To silence this warning, decorate the function with @tf.autograph.experimental.do_not_convert\n"
     ]
    }
   ],
   "source": [
    "# agent = make_agent(env, f'{pathic}/submission/MODEL')\n",
    "agent = make_agent(env, f'{pathic}')"
   ]
  },
  {
   "cell_type": "code",
   "execution_count": 52,
   "metadata": {},
   "outputs": [
    {
     "data": {
      "text/plain": [
       "'/home/efimovin/L2RPN/L2RPN_neurips2020_track1_starting_kit/example_submissions/submission_withbaselines/submission/MODEL'"
      ]
     },
     "execution_count": 52,
     "metadata": {},
     "output_type": "execute_result"
    }
   ],
   "source": [
    "f'{pathic}/submission/MODEL'"
   ]
  },
  {
   "cell_type": "code",
   "execution_count": null,
   "metadata": {},
   "outputs": [],
   "source": []
  },
  {
   "cell_type": "code",
   "execution_count": 5,
   "metadata": {},
   "outputs": [],
   "source": [
    "import shutil\n",
    "shutil.rmtree(f'{pathic}/LOGS')\n",
    "shutil.rmtree(f'{pathic}/wandb')"
   ]
  },
  {
   "cell_type": "code",
   "execution_count": 2,
   "metadata": {},
   "outputs": [],
   "source": [
    "!conda update --all"
   ]
  },
  {
   "cell_type": "code",
   "execution_count": null,
   "metadata": {},
   "outputs": [],
   "source": []
  }
 ],
 "metadata": {
  "kernelspec": {
   "display_name": "Python 3",
   "language": "python",
   "name": "python3"
  },
  "language_info": {
   "codemirror_mode": {
    "name": "ipython",
    "version": 3
   },
   "file_extension": ".py",
   "mimetype": "text/x-python",
   "name": "python",
   "nbconvert_exporter": "python",
   "pygments_lexer": "ipython3",
   "version": "3.6.3"
  }
 },
 "nbformat": 4,
 "nbformat_minor": 2
}
